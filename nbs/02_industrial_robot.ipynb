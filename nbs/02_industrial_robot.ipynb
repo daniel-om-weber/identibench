{
 "cells": [
  {
   "cell_type": "markdown",
   "metadata": {},
   "source": [
    "# Industrial Robot Dataset\n",
    "\n",
    "> Fill in a module description here"
   ]
  },
  {
   "cell_type": "code",
   "execution_count": 1,
   "metadata": {},
   "outputs": [],
   "source": [
    "#| default_exp industrial_robot"
   ]
  },
  {
   "cell_type": "code",
   "execution_count": 2,
   "metadata": {},
   "outputs": [],
   "source": [
    "#| export\n",
    "from sysbench_loader.core import unrar_download, write_dataset,write_array\n",
    "from nonlinear_benchmarks.utilities import cashed_download\n",
    "from pathlib import Path\n",
    "import os\n",
    "import h5py\n",
    "import numpy as np"
   ]
  },
  {
   "cell_type": "code",
   "execution_count": 3,
   "metadata": {},
   "outputs": [],
   "source": [
    "#| hide\n",
    "import shutil"
   ]
  },
  {
   "cell_type": "code",
   "execution_count": 4,
   "metadata": {},
   "outputs": [],
   "source": [
    "#| export\n",
    "import scipy.io as sio\n",
    "\n",
    "def industrial_robot(\n",
    "        save_path: Path #directory the files are written to, created if it does not exist\n",
    "):\n",
    "    save_path = save_path / 'industrial_robot'\n",
    "    url_robot = \"https://fdm-fallback.uni-kl.de/TUK/FB/MV/WSKL/0001/Robot_Identification_Benchmark_Without_Raw_Data.rar\"\n",
    "    # unrar_download(url_robot,tmp_dir)\n",
    "\n",
    "    tmp_dir = cashed_download(url_robot,'Industrial_robot')\n",
    "    tmp_dir = Path(tmp_dir)\n",
    "\n",
    "    train_valid_split = 0.8\n",
    "\n",
    "    path_forward = tmp_dir / \"forward_identification_without_raw_data.mat\"\n",
    "    path_inverse = tmp_dir / \"inverse_identification_without_raw_data.mat\"\n",
    "\n",
    "    fs = 10  # Hz\n",
    "    \n",
    "    # Convert the matlab sequences to hdf5 files\n",
    "    for idx, path in enumerate([path_forward, path_inverse]):\n",
    "        if idx == 0:\n",
    "            store_path = save_path / 'forward'\n",
    "        else:\n",
    "            store_path = save_path / 'inverse'\n",
    "        os.makedirs(store_path, exist_ok=True)\n",
    "             \n",
    "        mf = sio.loadmat(path)\n",
    "        for mode in ['train', 'test']:\n",
    "            if mode == 'test':\n",
    "                with h5py.File(store_path / f'test.hdf5', 'w') as f:\n",
    "                    write_dataset(f, 'dt', np.ones_like(mf[f'time_{mode}'][0]) / fs)\n",
    "                    write_array(f, 'u', mf[f'u_{mode}'].T)\n",
    "                    write_array(f, 'y', mf[f'y_{mode}'].T)\n",
    "            else:\n",
    "                with h5py.File(store_path / f'train.hdf5', 'w') as train_f, \\\n",
    "                    h5py.File(store_path / f'valid.hdf5', 'w') as valid_f:\n",
    "                        dt = np.ones_like(mf[f'time_{mode}'][0]) / fs\n",
    "                        total_entries = len(dt)\n",
    "                        split_index = int(total_entries * train_valid_split)\n",
    "\n",
    "                        write_dataset(train_f, 'dt', dt[:split_index])\n",
    "                        write_array(train_f, 'u', mf[f'u_{mode}'][:,:split_index].T)\n",
    "                        write_array(train_f, 'y', mf[f'y_{mode}'][:,:split_index].T)\n",
    "                        \n",
    "                        write_dataset(valid_f, 'dt', dt[split_index:])\n",
    "                        write_array(valid_f, 'u', mf[f'u_{mode}'][:,split_index:].T)\n",
    "                        write_array(valid_f, 'y', mf[f'y_{mode}'][:,split_index:].T)\n",
    "    "
   ]
  },
  {
   "cell_type": "code",
   "execution_count": 5,
   "metadata": {},
   "outputs": [
    {
     "name": "stdout",
     "output_type": "stream",
     "text": [
      "dataset not found downloading from https://fdm-fallback.uni-kl.de/TUK/FB/MV/WSKL/0001/Robot_Identification_Benchmark_Without_Raw_Data.rar \n",
      " in C:\\Users\\danie\\AppData\\Local\\nonlinear_benchmarks/Industrial_robot\\Robot_Identification_Benchmark_Without_Raw_Data.rar\n",
      "extracting file...\n",
      "save_loc='C:\\\\Users\\\\danie\\\\AppData\\\\Local\\\\nonlinear_benchmarks/Industrial_robot\\\\Robot_Identification_Benchmark_Without_Raw_Data.rar'\n"
     ]
    }
   ],
   "source": [
    "tmp_dir = Path('./tmp')\n",
    "industrial_robot(tmp_dir)"
   ]
  },
  {
   "cell_type": "code",
   "execution_count": 6,
   "metadata": {},
   "outputs": [],
   "source": [
    "#| hide\n",
    "#clean temporary hdf5 file\n",
    "shutil.rmtree(tmp_dir)\n",
    "# clear_cache()"
   ]
  },
  {
   "cell_type": "code",
   "execution_count": 7,
   "metadata": {},
   "outputs": [],
   "source": [
    "#| hide\n",
    "import nbdev; nbdev.nbdev_export()"
   ]
  },
  {
   "cell_type": "code",
   "execution_count": null,
   "metadata": {},
   "outputs": [],
   "source": []
  }
 ],
 "metadata": {
  "kernelspec": {
   "display_name": "Python 3 (ipykernel)",
   "language": "python",
   "name": "python3"
  },
  "language_info": {
   "codemirror_mode": {
    "name": "ipython",
    "version": 3
   },
   "file_extension": ".py",
   "mimetype": "text/x-python",
   "name": "python",
   "nbconvert_exporter": "python",
   "pygments_lexer": "ipython3",
   "version": "3.12.3"
  }
 },
 "nbformat": 4,
 "nbformat_minor": 4
}
