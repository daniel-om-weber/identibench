{
 "cells": [
  {
   "cell_type": "markdown",
   "metadata": {},
   "source": [
    "# Industrial Robot Dataset\n",
    "\n",
    "> Fill in a module description here"
   ]
  },
  {
   "cell_type": "code",
   "execution_count": null,
   "metadata": {},
   "outputs": [],
   "source": [
    "#| default_exp datasets.industrial_robot"
   ]
  },
  {
   "cell_type": "code",
   "execution_count": null,
   "metadata": {},
   "outputs": [],
   "source": [
    "#| export\n",
    "from identibench.utils import write_dataset,write_array\n",
    "import identibench.benchmark as idb\n",
    "import identibench.metrics\n",
    "from nonlinear_benchmarks.utilities import cashed_download\n",
    "from pathlib import Path\n",
    "import os\n",
    "import h5py\n",
    "import numpy as np\n",
    "import scipy.io as sio"
   ]
  },
  {
   "cell_type": "code",
   "execution_count": null,
   "metadata": {},
   "outputs": [],
   "source": [
    "#| exporti\n",
    "\n",
    "def robot_mat2hdf(\n",
    "        save_path: Path, #directory the files are written to, created if it does not exist\n",
    "        mat_path: Path, #path of mat file to extract\n",
    "):         \n",
    "    'converts .mat file of industrial robot to hdf5 file, used for forward and inverse'\n",
    "\n",
    "\n",
    "    fs = 10  # Hz\n",
    "    train_valid_split = 0.8\n",
    "    os.makedirs(save_path / 'test', exist_ok=True)\n",
    "    os.makedirs(save_path / 'train', exist_ok=True)\n",
    "    os.makedirs(save_path / 'valid', exist_ok=True)\n",
    "\n",
    "    mf = sio.loadmat(mat_path)\n",
    "    for mode in ['train', 'test']:\n",
    "        if mode == 'test':\n",
    "            with h5py.File(save_path / 'test' / 'test.hdf5', 'w') as f:\n",
    "                write_dataset(f, 'dt', np.ones_like(mf[f'time_{mode}'][0]) / fs)\n",
    "                write_array(f, 'u', mf[f'u_{mode}'].T)\n",
    "                write_array(f, 'y', mf[f'y_{mode}'].T)\n",
    "                f.attrs['fs'] = fs\n",
    "\n",
    "        else:\n",
    "            with h5py.File(save_path / 'train' / 'train.hdf5', 'w') as train_f, \\\n",
    "                h5py.File(save_path / 'valid' / 'valid.hdf5', 'w') as valid_f:\n",
    "                    dt = np.ones_like(mf[f'time_{mode}'][0]) / fs\n",
    "                    total_entries = len(dt)\n",
    "                    split_index = int(total_entries * train_valid_split)\n",
    "\n",
    "                    write_dataset(train_f, 'dt', dt[:split_index])\n",
    "                    write_array(train_f, 'u', mf[f'u_{mode}'][:,:split_index].T)\n",
    "                    write_array(train_f, 'y', mf[f'y_{mode}'][:,:split_index].T)\n",
    "                    train_f.attrs['fs'] = fs  \n",
    "                    \n",
    "                    write_dataset(valid_f, 'dt', dt[split_index:])\n",
    "                    write_array(valid_f, 'u', mf[f'u_{mode}'][:,split_index:].T)\n",
    "                    write_array(valid_f, 'y', mf[f'y_{mode}'][:,split_index:].T)\n",
    "                    valid_f.attrs['fs'] = fs  \n",
    "    "
   ]
  },
  {
   "cell_type": "code",
   "execution_count": null,
   "metadata": {},
   "outputs": [],
   "source": [
    "#| export\n",
    "\n",
    "def robot_forward(\n",
    "        save_path: Path, #directory the files are written to, created if it does not exist\n",
    "        force_download: bool = False # force download the dataset\n",
    "):\n",
    "    save_path = Path(save_path)\n",
    "    url_robot = \"https://fdm-fallback.uni-kl.de/TUK/FB/MV/WSKL/0001/Robot_Identification_Benchmark_Without_Raw_Data.rar\"\n",
    "    # unrar_download(url_robot,tmp_dir)\n",
    "\n",
    "    tmp_dir = cashed_download(url_robot,'Industrial_robot',force_download=force_download)\n",
    "    tmp_dir = Path(tmp_dir)\n",
    "\n",
    "    path_forward = tmp_dir / \"forward_identification_without_raw_data.mat\"\n",
    "\n",
    "    robot_mat2hdf(save_path,path_forward)\n",
    "    "
   ]
  },
  {
   "cell_type": "code",
   "execution_count": null,
   "metadata": {},
   "outputs": [],
   "source": [
    "tmp_dir = idb.get_default_data_root()\n",
    "robot_forward(tmp_dir / 'robot_forward')"
   ]
  },
  {
   "cell_type": "code",
   "execution_count": null,
   "metadata": {},
   "outputs": [],
   "source": [
    "#| export\n",
    "u_forward = [ f'u{i}' for i in range(0,6) ]\n",
    "y_forward = [ f'y{i}' for i in range(0,6) ]\n",
    "\n",
    "BenchmarkRobotForward_Simulation = idb.BenchmarkSpecSimulation(\n",
    "    name='BenchmarkRobotForward_Simulation', dataset_id='robot_forward',\n",
    "    u_cols=u_forward, y_cols=y_forward, metric_func=identibench.metrics.rmse, \n",
    "    download_func=robot_forward,\n",
    "    init_window=100\n",
    ")\n",
    "BenchmarkRobotForward_Prediction = idb.BenchmarkSpecPrediction(\n",
    "    name='BenchmarkRobotForward_Prediction', dataset_id='robot_forward',\n",
    "    u_cols=u_forward, y_cols=y_forward, metric_func=identibench.metrics.rmse, \n",
    "    download_func=robot_forward,\n",
    "    init_window=100, pred_horizon=100,pred_step=100\n",
    ")"
   ]
  },
  {
   "cell_type": "code",
   "execution_count": null,
   "metadata": {},
   "outputs": [
    {
     "name": "stdout",
     "output_type": "stream",
     "text": [
      "Building model with spec: BenchmarkRobotForward_Simulation, seed: 3869649890\n"
     ]
    },
    {
     "data": {
      "text/plain": [
       "{'benchmark_name': 'BenchmarkRobotForward_Simulation',\n",
       " 'dataset_id': 'robot_forward',\n",
       " 'hyperparameters': {},\n",
       " 'seed': 3869649890,\n",
       " 'training_time_seconds': 7.000000914558768e-05,\n",
       " 'test_time_seconds': 0.0016029170074034482,\n",
       " 'benchmark_type': 'BenchmarkSpecSimulation',\n",
       " 'metric_score': 25.649070668754835}"
      ]
     },
     "execution_count": null,
     "metadata": {},
     "output_type": "execute_result"
    }
   ],
   "source": [
    "idb.run_benchmark(\n",
    "    spec=BenchmarkRobotForward_Simulation, \n",
    "    build_model=idb._dummy_build_model\n",
    ")"
   ]
  },
  {
   "cell_type": "code",
   "execution_count": null,
   "metadata": {},
   "outputs": [
    {
     "name": "stdout",
     "output_type": "stream",
     "text": [
      "Building model with spec: BenchmarkRobotForward_Prediction, seed: 4160595411\n"
     ]
    },
    {
     "data": {
      "text/plain": [
       "{'benchmark_name': 'BenchmarkRobotForward_Prediction',\n",
       " 'dataset_id': 'robot_forward',\n",
       " 'hyperparameters': {},\n",
       " 'seed': 4160595411,\n",
       " 'training_time_seconds': 1.9291997887194157e-05,\n",
       " 'test_time_seconds': 0.0016119159990921617,\n",
       " 'benchmark_type': 'BenchmarkSpecPrediction',\n",
       " 'metric_score': 25.649070668754835}"
      ]
     },
     "execution_count": null,
     "metadata": {},
     "output_type": "execute_result"
    }
   ],
   "source": [
    "idb.run_benchmark(\n",
    "    spec=BenchmarkRobotForward_Prediction, \n",
    "    build_model=idb._dummy_build_model\n",
    ")"
   ]
  },
  {
   "cell_type": "code",
   "execution_count": null,
   "metadata": {},
   "outputs": [],
   "source": [
    "#| export\n",
    "\n",
    "def robot_inverse(\n",
    "        save_path: Path, #directory the files are written to, created if it does not exist\n",
    "        force_download: bool = False # force download the dataset\n",
    "):\n",
    "    save_path = Path(save_path)\n",
    "    url_robot = \"https://fdm-fallback.uni-kl.de/TUK/FB/MV/WSKL/0001/Robot_Identification_Benchmark_Without_Raw_Data.rar\"\n",
    "    # unrar_download(url_robot,tmp_dir)\n",
    "\n",
    "    tmp_dir = cashed_download(url_robot,'Industrial_robot',force_download=force_download)\n",
    "    tmp_dir = Path(tmp_dir)\n",
    "\n",
    "    path_inverse = tmp_dir / \"inverse_identification_without_raw_data.mat\"\n",
    "\n",
    "    robot_mat2hdf(save_path,path_inverse)\n",
    "    "
   ]
  },
  {
   "cell_type": "code",
   "execution_count": null,
   "metadata": {},
   "outputs": [],
   "source": [
    "tmp_dir = idb.get_default_data_root()\n",
    "robot_inverse(tmp_dir / 'robot_inverse')"
   ]
  },
  {
   "cell_type": "code",
   "execution_count": null,
   "metadata": {},
   "outputs": [],
   "source": [
    "#| export\n",
    "u_inverse = [ f'u{i}' for i in range(0,12) ]\n",
    "y_inverse = [ f'y{i}' for i in range(0,6) ]\n",
    "\n",
    "BenchmarkRobotInverse_Simulation = idb.BenchmarkSpecSimulation(\n",
    "    name='BenchmarkRobotInverse_Simulation', dataset_id='robot_inverse',\n",
    "    u_cols=u_inverse, y_cols=y_inverse, metric_func=identibench.metrics.rmse, \n",
    "    download_func=robot_inverse,\n",
    "    init_window=100\n",
    ")\n",
    "BenchmarkRobotInverse_Prediction = idb.BenchmarkSpecPrediction(\n",
    "    name='BenchmarkRobotInverse_Prediction', dataset_id='robot_inverse',\n",
    "    u_cols=u_inverse, y_cols=y_inverse, metric_func=identibench.metrics.rmse, \n",
    "    download_func=robot_inverse,\n",
    "    init_window=100, pred_horizon=100,pred_step=100\n",
    ")"
   ]
  },
  {
   "cell_type": "code",
   "execution_count": null,
   "metadata": {},
   "outputs": [
    {
     "name": "stdout",
     "output_type": "stream",
     "text": [
      "Building model with spec: BenchmarkRobotInverse_Simulation, seed: 3124363609\n"
     ]
    },
    {
     "data": {
      "text/plain": [
       "{'benchmark_name': 'BenchmarkRobotInverse_Simulation',\n",
       " 'dataset_id': 'robot_inverse',\n",
       " 'hyperparameters': {},\n",
       " 'seed': 3124363609,\n",
       " 'training_time_seconds': 0.00020908399892505258,\n",
       " 'test_time_seconds': 0.0013573749893112108,\n",
       " 'benchmark_type': 'BenchmarkSpecSimulation',\n",
       " 'metric_score': 3.952129646947972}"
      ]
     },
     "execution_count": null,
     "metadata": {},
     "output_type": "execute_result"
    }
   ],
   "source": [
    "idb.run_benchmark(\n",
    "    spec=BenchmarkRobotInverse_Simulation, \n",
    "    build_model=idb._dummy_build_model\n",
    ")"
   ]
  },
  {
   "cell_type": "code",
   "execution_count": null,
   "metadata": {},
   "outputs": [
    {
     "name": "stdout",
     "output_type": "stream",
     "text": [
      "Building model with spec: BenchmarkRobotInverse_Prediction, seed: 3738251874\n"
     ]
    },
    {
     "data": {
      "text/plain": [
       "{'benchmark_name': 'BenchmarkRobotInverse_Prediction',\n",
       " 'dataset_id': 'robot_inverse',\n",
       " 'hyperparameters': {},\n",
       " 'seed': 3738251874,\n",
       " 'training_time_seconds': 1.6375008272007108e-05,\n",
       " 'test_time_seconds': 0.0017839999927673489,\n",
       " 'benchmark_type': 'BenchmarkSpecPrediction',\n",
       " 'metric_score': 3.952129646947972}"
      ]
     },
     "execution_count": null,
     "metadata": {},
     "output_type": "execute_result"
    }
   ],
   "source": [
    "idb.run_benchmark(\n",
    "    spec=BenchmarkRobotInverse_Prediction, \n",
    "    build_model=idb._dummy_build_model\n",
    ")"
   ]
  },
  {
   "cell_type": "code",
   "execution_count": null,
   "metadata": {},
   "outputs": [],
   "source": [
    "#| hide\n",
    "import nbdev; nbdev.nbdev_export()"
   ]
  },
  {
   "cell_type": "code",
   "execution_count": null,
   "metadata": {},
   "outputs": [],
   "source": []
  }
 ],
 "metadata": {
  "kernelspec": {
   "display_name": "python3",
   "language": "python",
   "name": "python3"
  }
 },
 "nbformat": 4,
 "nbformat_minor": 4
}
