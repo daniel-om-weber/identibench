{
 "cells": [
  {
   "cell_type": "markdown",
   "metadata": {},
   "source": [
    "# sysbench_loader\n",
    "\n",
    "> Downloads and prepares various system identification benchmark datasets"
   ]
  },
  {
   "cell_type": "markdown",
   "metadata": {},
   "source": [
    "This file will become your README and also the index of your documentation."
   ]
  },
  {
   "cell_type": "markdown",
   "metadata": {},
   "source": [
    "## Install"
   ]
  },
  {
   "cell_type": "markdown",
   "metadata": {},
   "source": [
    "```sh\n",
    "pip install sysbench_loader\n",
    "```"
   ]
  },
  {
   "cell_type": "markdown",
   "metadata": {},
   "source": [
    "## How to use"
   ]
  },
  {
   "cell_type": "code",
   "execution_count": null,
   "metadata": {},
   "outputs": [],
   "source": [
    "import sysbench_loader"
   ]
  },
  {
   "cell_type": "code",
   "execution_count": null,
   "metadata": {},
   "outputs": [
    {
     "data": {
      "text/plain": [
       "[<function sysbench_loader.workshop.wiener_hammerstein(save_path: pathlib.Path)>,\n",
       " <function sysbench_loader.workshop.silverbox(save_path: pathlib.Path)>,\n",
       " <function sysbench_loader.workshop.cascaded_tanks(save_path: pathlib.Path)>,\n",
       " <function sysbench_loader.workshop.emps(save_path: pathlib.Path)>,\n",
       " <function sysbench_loader.workshop.noisy_wh(save_path: pathlib.Path)>,\n",
       " <function sysbench_loader.industrial_robot.industrial_robot(save_path: pathlib.Path)>,\n",
       " <function sysbench_loader.ship.ship(save_path: pathlib.Path, remove_download=True)>,\n",
       " <function sysbench_loader.quad_pelican.quad_pelican(save_path: pathlib.Path, remove_download=False)>,\n",
       " <function sysbench_loader.quad_pi.quad_pi(save_path: pathlib.Path, remove_download=False)>,\n",
       " <function sysbench_loader.broad.broad(save_path: pathlib.Path)>]"
      ]
     },
     "execution_count": null,
     "metadata": {},
     "output_type": "execute_result"
    }
   ],
   "source": [
    "sysbench_loader.all_dataset_loader"
   ]
  },
  {
   "cell_type": "code",
   "execution_count": null,
   "metadata": {},
   "outputs": [
    {
     "data": {
      "application/vnd.jupyter.widget-view+json": {
       "model_id": "6f05ed374f494c74bb9a6f60606994f6",
       "version_major": 2,
       "version_minor": 0
      },
      "text/plain": [
       "Output()"
      ]
     },
     "metadata": {},
     "output_type": "display_data"
    },
    {
     "name": "stdout",
     "output_type": "stream",
     "text": [
      "\n",
      "\n"
     ]
    },
    {
     "data": {
      "text/html": [
       "<pre style=\"white-space:pre;overflow-x:auto;line-height:normal;font-family:Menlo,'DejaVu Sans Mono',consolas,'Courier New',monospace\">🎉 <span style=\"font-weight: bold\">Connected to </span><span style=\"color: #008000; text-decoration-color: #008000; font-weight: bold\">'https://darus.uni-stuttgart.de/'</span>\n",
       "</pre>\n"
      ],
      "text/plain": [
       "🎉 \u001b[1mConnected to \u001b[0m\u001b[1;32m'https://darus.uni-stuttgart.de/'\u001b[0m\n"
      ]
     },
     "metadata": {},
     "output_type": "display_data"
    },
    {
     "data": {
      "text/html": [
       "<pre style=\"white-space:pre;overflow-x:auto;line-height:normal;font-family:Menlo,'DejaVu Sans Mono',consolas,'Courier New',monospace\"></pre>\n"
      ],
      "text/plain": []
     },
     "metadata": {},
     "output_type": "display_data"
    },
    {
     "data": {
      "text/html": [
       "<pre style=\"white-space:pre;overflow-x:auto;line-height:normal;font-family:Menlo,'DejaVu Sans Mono',consolas,'Courier New',monospace\">\n",
       "</pre>\n"
      ],
      "text/plain": [
       "\n"
      ]
     },
     "metadata": {},
     "output_type": "display_data"
    },
    {
     "data": {
      "text/html": [
       "<pre style=\"white-space:pre;overflow-x:auto;line-height:normal;font-family:Menlo,'DejaVu Sans Mono',consolas,'Courier New',monospace\"><span style=\"font-weight: bold\">Fetching dataset </span><span style=\"color: #008000; text-decoration-color: #008000; font-weight: bold\">'doi:10.18419/darus-2905'</span><span style=\"font-weight: bold\"> from </span><span style=\"color: #008000; text-decoration-color: #008000; font-weight: bold\">'https://darus.uni-stuttgart.de/'</span>\n",
       "\n",
       "</pre>\n"
      ],
      "text/plain": [
       "\u001b[1mFetching dataset \u001b[0m\u001b[1;32m'doi:10.18419/darus-2905'\u001b[0m\u001b[1m from \u001b[0m\u001b[1;32m'https://darus.uni-stuttgart.de/'\u001b[0m\n",
       "\n"
      ]
     },
     "metadata": {},
     "output_type": "display_data"
    },
    {
     "data": {
      "text/html": [
       "<pre style=\"white-space:pre;overflow-x:auto;line-height:normal;font-family:Menlo,'DejaVu Sans Mono',consolas,'Courier New',monospace\">╭────────────────────────────────────────── <span style=\"font-weight: bold\">Dataset Information</span> ──────────────────────────────────────────╮\n",
       "│ Title: <span style=\"font-weight: bold\">A Simulated 4-DOF Ship Motion Dataset for System Identification under Environmental Disturbances</span> │\n",
       "│ Version: latest                                                                                         │\n",
       "│ Files: 126                                                                                              │\n",
       "╰─────────────────────────────────────────────────────────────────────────────────────────────────────────╯\n",
       "</pre>\n"
      ],
      "text/plain": [
       "╭────────────────────────────────────────── \u001b[1mDataset Information\u001b[0m ──────────────────────────────────────────╮\n",
       "│ Title: \u001b[1mA Simulated 4-DOF Ship Motion Dataset for System Identification under Environmental Disturbances\u001b[0m │\n",
       "│ Version: latest                                                                                         │\n",
       "│ Files: 126                                                                                              │\n",
       "╰─────────────────────────────────────────────────────────────────────────────────────────────────────────╯\n"
      ]
     },
     "metadata": {},
     "output_type": "display_data"
    },
    {
     "data": {
      "application/vnd.jupyter.widget-view+json": {
       "model_id": "a2acae79f12f4630a2e88413ed977d8a",
       "version_major": 2,
       "version_minor": 0
      },
      "text/plain": [
       "Output()"
      ]
     },
     "metadata": {},
     "output_type": "display_data"
    },
    {
     "data": {
      "text/html": [
       "<pre style=\"white-space:pre;overflow-x:auto;line-height:normal;font-family:Menlo,'DejaVu Sans Mono',consolas,'Courier New',monospace\">\n",
       "<span style=\"font-weight: bold\">Downloading files</span>\n",
       "\n",
       "</pre>\n"
      ],
      "text/plain": [
       "\n",
       "\u001b[1mDownloading files\u001b[0m\n",
       "\n"
      ]
     },
     "metadata": {},
     "output_type": "display_data"
    },
    {
     "data": {
      "text/html": [
       "<pre style=\"white-space:pre;overflow-x:auto;line-height:normal;font-family:Menlo,'DejaVu Sans Mono',consolas,'Courier New',monospace\"></pre>\n"
      ],
      "text/plain": []
     },
     "metadata": {},
     "output_type": "display_data"
    },
    {
     "data": {
      "text/html": [
       "<pre style=\"white-space:pre;overflow-x:auto;line-height:normal;font-family:Menlo,'DejaVu Sans Mono',consolas,'Courier New',monospace\">\n",
       "</pre>\n"
      ],
      "text/plain": [
       "\n"
      ]
     },
     "metadata": {},
     "output_type": "display_data"
    },
    {
     "data": {
      "text/html": [
       "<pre style=\"white-space:pre;overflow-x:auto;line-height:normal;font-family:Menlo,'DejaVu Sans Mono',consolas,'Courier New',monospace\">╰── <span style=\"font-weight: bold\">✅ Done </span>\n",
       "\n",
       "</pre>\n"
      ],
      "text/plain": [
       "╰── \u001b[1m✅ Done \u001b[0m\n",
       "\n"
      ]
     },
     "metadata": {},
     "output_type": "display_data"
    },
    {
     "name": "stderr",
     "output_type": "stream",
     "text": [
      "File exists: C:\\Users\\danie\\AppData\\Local\\nonlinear_benchmarks\\Quadrotor_pi\\bags.zip\n"
     ]
    }
   ],
   "source": [
    "save_path = './tmp'\n",
    "for loader in sysbench_loader.all_dataset_loader:\n",
    "    loader(save_path)"
   ]
  },
  {
   "cell_type": "code",
   "execution_count": null,
   "metadata": {},
   "outputs": [],
   "source": []
  }
 ],
 "metadata": {
  "kernelspec": {
   "display_name": "python3",
   "language": "python",
   "name": "python3"
  }
 },
 "nbformat": 4,
 "nbformat_minor": 4
}
